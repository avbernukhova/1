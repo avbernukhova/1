{
 "cells": [
  {
   "cell_type": "markdown",
   "id": "7b9c1273",
   "metadata": {},
   "source": [
    "# Задача 1"
   ]
  },
  {
   "cell_type": "code",
   "execution_count": 2,
   "id": "77617da7",
   "metadata": {},
   "outputs": [],
   "source": [
    "from scipy.optimize import minimize\n",
    "import matplotlib.pyplot as plt\n",
    "import numpy as np\n",
    "import math\n",
    "\n",
    "eps = 10e-6"
   ]
  },
  {
   "cell_type": "code",
   "execution_count": 3,
   "id": "3e390d9c",
   "metadata": {},
   "outputs": [],
   "source": [
    "# дискретное время\n",
    "\n",
    "num_of_fractions = 51  # количество делений на дискретной шкале времени\n",
    "t = np.linspace(0, 2, num_of_fractions)  # дискретная шкала времени\n",
    "dt = t[1] - t[0]  # шаг шкалы"
   ]
  },
  {
   "cell_type": "code",
   "execution_count": 4,
   "id": "e4e10f4d",
   "metadata": {},
   "outputs": [],
   "source": [
    "# функционал в дискретном времени\n",
    "\n",
    "def f(y):\n",
    "    return np.sum(((y[1:] - y[:-1]) / dt) ** 2 + 2 * ((y[1:] - y[:-1]) / dt) * y[1:] +\n",
    "                 y[1:] ** 2 + 3 * y[1:] * np.exp(2 * t[1:]))"
   ]
  },
  {
   "cell_type": "code",
   "execution_count": 5,
   "id": "0b26cfcd",
   "metadata": {},
   "outputs": [],
   "source": [
    "y0 = [1 for _ in range(0, num_of_fractions)]\n",
    "\n",
    "bounds = [(None, None) for _ in range(0, num_of_fractions)]\n",
    "bounds[0], bounds[-1] = (-15.0 - eps, -15.0 + eps), (1.0 - eps, 1.0 + eps)\n"
   ]
  },
  {
   "cell_type": "code",
   "execution_count": 6,
   "id": "075edd9d",
   "metadata": {},
   "outputs": [],
   "source": [
    "# минимизируем функционал\n",
    "res = minimize(f, y0, method='l-bfgs-b', bounds=bounds)"
   ]
  },
  {
   "cell_type": "code",
   "execution_count": 7,
   "id": "abc42012",
   "metadata": {},
   "outputs": [
    {
     "data": {
      "text/plain": [
       "array([-15.00001   , -14.62123496, -14.26245582, -13.9229079 ,\n",
       "       -13.60184329, -13.29851051, -13.01219116, -12.74215124,\n",
       "       -12.4876759 , -12.24805691, -12.02253975, -11.8104113 ,\n",
       "       -11.6108959 , -11.42322921, -11.24660883, -11.08021709,\n",
       "       -10.92319349, -10.77466171, -10.63370801, -10.49937798,\n",
       "       -10.37066447, -10.24649573, -10.12572278, -10.00711541,\n",
       "        -9.88936613,  -9.77108369,  -9.6507714 ,  -9.52682803,\n",
       "        -9.39752949,  -9.26100548,  -9.1152379 ,  -8.95807298,\n",
       "        -8.78713462,  -8.59988646,  -8.39354188,  -8.16508459,\n",
       "        -7.91122793,  -7.62843657,  -7.31284694,  -6.96028216,\n",
       "        -6.56618288,  -6.12558442,  -5.63307524,  -5.08278077,\n",
       "        -4.46831497,  -3.7827544 ,  -3.01853916,  -2.1674978 ,\n",
       "        -1.220672  ,  -0.16836555,   0.99999   ])"
      ]
     },
     "execution_count": 7,
     "metadata": {},
     "output_type": "execute_result"
    }
   ],
   "source": [
    "res.x"
   ]
  },
  {
   "cell_type": "code",
   "execution_count": 8,
   "id": "53d44c2f",
   "metadata": {},
   "outputs": [],
   "source": [
    "def f_analytical(t):\n",
    "    return [(np.exp(-elem) * (31*np.exp(2*elem) + np.exp(3*elem) + 2*np.exp(2*elem + 2) - \n",
    "                             np.exp(2*elem + 6) + np.exp(3*elem + 4) - \n",
    "                              2*np.exp(2) - 31*np.exp(4) + np.exp(6))/(2*(np.exp(4) - 1))) for elem in t]\n",
    "\n",
    "#y(t) = (e^(-t) (31 e^(2 t) - e^(3 t) + 2 e^(2 t + 2) -\n",
    "#                e^(2 t + 6) + e^(3 t + 4) - 2 e^2 - 31 e^4 + e^6))/(2 (e^4 - 1))"
   ]
  },
  {
   "cell_type": "code",
   "execution_count": 9,
   "id": "c867bc9c",
   "metadata": {},
   "outputs": [
    {
     "data": {
      "image/png": "[encoded data removed]",
      "text/plain": [
       "<Figure size 432x288 with 1 Axes>"
      ]
     },
     "metadata": {
      "needs_background": "light"
     },
     "output_type": "display_data"
    }
   ],
   "source": [
    "# численное и аналитическое решения примерно совпали\n",
    "plt.plot(t, res.x, 'r', t, f_analytical(t), '--b')\n",
    "plt.xlabel('t')\n",
    "plt.ylabel('y')\n",
    "plt.legend(('y численный', 'y аналитический'))\n",
    "plt.show()"
   ]
  },
  {
   "cell_type": "code",
   "execution_count": 10,
   "id": "e8546374",
   "metadata": {},
   "outputs": [
    {
     "data": {
      "image/png": "[encoded data removed]",
      "text/plain": [
       "<Figure size 432x288 with 1 Axes>"
      ]
     },
     "metadata": {
      "needs_background": "light"
     },
     "output_type": "display_data"
    }
   ],
   "source": [
    "plt.plot(t, res.x)\n",
    "plt.xlabel('t')\n",
    "plt.ylabel('y')\n",
    "plt.show()"
   ]
  },
  {
   "cell_type": "markdown",
   "id": "76faa4fa",
   "metadata": {},
   "source": [
    "#### Максимум:"
   ]
  },
  {
   "cell_type": "code",
   "execution_count": 12,
   "id": "45e0076c",
   "metadata": {},
   "outputs": [],
   "source": [
    "def f_to_max(y):\n",
    "    return -np.sum(((y[1:] - y[:-1]) / dt) ** 2 + 2 * ((y[1:] - y[:-1]) / dt) * y[1:] +\n",
    "                 y[1:] ** 2 + 3 * y[1:] * np.exp(2 * t[1:]))"
   ]
  },
  {
   "cell_type": "code",
   "execution_count": 13,
   "id": "79e3b958",
   "metadata": {},
   "outputs": [
    {
     "name": "stderr",
     "output_type": "stream",
     "text": [
      "<ipython-input-12-99f1db9d7ac2>:2: RuntimeWarning: overflow encountered in square\n",
      "  return -np.sum(((y[1:] - y[:-1]) / dt) ** 2 + 2 * ((y[1:] - y[:-1]) / dt) * y[1:] +\n",
      "/Library/Frameworks/Python.framework/Versions/3.9/lib/python3.9/site-packages/scipy/optimize/_numdiff.py:557: RuntimeWarning: invalid value encountered in subtract\n",
      "  df = fun(x) - f0\n",
      "<ipython-input-12-99f1db9d7ac2>:2: RuntimeWarning: overflow encountered in multiply\n",
      "  return -np.sum(((y[1:] - y[:-1]) / dt) ** 2 + 2 * ((y[1:] - y[:-1]) / dt) * y[1:] +\n",
      "<ipython-input-12-99f1db9d7ac2>:3: RuntimeWarning: overflow encountered in square\n",
      "  y[1:] ** 2 + 3 * y[1:] * np.exp(2 * t[1:]))\n"
     ]
    }
   ],
   "source": [
    "res_max = minimize(f_to_max, y0, method='l-bfgs-b', bounds=bounds)"
   ]
  },
  {
   "cell_type": "code",
   "execution_count": 16,
   "id": "0e0d6526",
   "metadata": {},
   "outputs": [
    {
     "data": {
      "image/png": "[encoded data removed]",
      "text/plain": [
       "<Figure size 432x288 with 1 Axes>"
      ]
     },
     "metadata": {
      "needs_background": "light"
     },
     "output_type": "display_data"
    }
   ],
   "source": [
    "plt.plot(t, res_max.x, 'r', t, f_analytical(t), '--b')\n",
    "plt.xlabel('t')\n",
    "plt.ylabel('y')\n",
    "plt.legend(('y численный', 'y аналитический'))\n",
    "plt.show()"
   ]
  },
  {
   "cell_type": "markdown",
   "id": "2300ea0e",
   "metadata": {},
   "source": [
    "В первом случае (минимизация) численное решение выглядит более совпадающим с аналитическим, поэтому здесь будет минимум"
   ]
  },
  {
   "cell_type": "markdown",
   "id": "013227fa",
   "metadata": {},
   "source": [
    "# Задача 2"
   ]
  },
  {
   "cell_type": "code",
   "execution_count": 2,
   "id": "f9ad1955",
   "metadata": {},
   "outputs": [],
   "source": [
    "from gekko import GEKKO\n",
    "import numpy as np\n",
    "import matplotlib.pyplot as plt\n",
    "import math\n",
    "import os"
   ]
  },
  {
   "cell_type": "code",
   "execution_count": 3,
   "id": "99f24f51",
   "metadata": {},
   "outputs": [
    {
     "name": "stdout",
     "output_type": "stream",
     "text": [
      " ----------------------------------------------------------------\n",
      " APMonitor, Version 1.0.1\n",
      " APMonitor Optimization Suite\n",
      " ----------------------------------------------------------------\n",
      " \n",
      " \n",
      " --------- APM Model Size ------------\n",
      " Each time step contains\n",
      "   Objects      :            0\n",
      "   Constants    :            0\n",
      "   Variables    :            5\n",
      "   Intermediates:            0\n",
      "   Connections  :            0\n",
      "   Equations    :            4\n",
      "   Residuals    :            4\n",
      " \n",
      " Number of state variables:           3500\n",
      " Number of total equations: -         3000\n",
      " Number of slack variables: -            0\n",
      " ---------------------------------------\n",
      " Degrees of freedom       :            500\n",
      " \n",
      " solver            3  not supported\n",
      " using default solver: APOPT\n",
      " ----------------------------------------------\n",
      " Dynamic Control with APOPT Solver\n",
      " ----------------------------------------------\n",
      " \n",
      " Iter    Objective  Convergence\n",
      "    0  4.54876E+01  1.28125E+00\n",
      "    1 -7.35991E+02  1.17188E-10\n",
      "    2 -8.07612E+10  9.16667E-01\n",
      "    3  1.78593E+16  9.16710E-01\n",
      "    4  2.70798E+16  9.16710E-01\n",
      "    5  1.84753E+16  9.16710E-01\n",
      "    6  2.70798E+16  9.16710E-01\n",
      "    7  1.82836E+16  9.16710E-01\n",
      "    8  2.70798E+16  9.16710E-01\n",
      "    9  1.84753E+16  9.16710E-01\n",
      " \n",
      " Iter    Objective  Convergence\n",
      "   10  2.70798E+16  9.16710E-01\n",
      "   11  1.82836E+16  9.16710E-01\n",
      "   12  2.70798E+16  9.16710E-01\n",
      "   13  1.84753E+16  9.16710E-01\n",
      "   14  2.70798E+16  9.16710E-01\n",
      "   15  1.82842E+16  9.16710E-01\n",
      "   16  2.70798E+16  9.16710E-01\n",
      "   17  1.84753E+16  9.16710E-01\n",
      "   18  2.70798E+16  9.16710E-01\n",
      "   19  1.82836E+16  9.16710E-01\n",
      " \n",
      " Iter    Objective  Convergence\n",
      "   20  2.70798E+16  9.16710E-01\n",
      "   21  1.84753E+16  9.16710E-01\n",
      "   22  2.70798E+16  9.16710E-01\n",
      "   23  1.82842E+16  9.16710E-01\n",
      "   24  2.70798E+16  9.16710E-01\n",
      "   25  1.84753E+16  9.16710E-01\n",
      "   26  2.70798E+16  9.16710E-01\n",
      "   27  1.82842E+16  9.16710E-01\n",
      "   28  2.70798E+16  9.16710E-01\n",
      "   29  1.84753E+16  9.16710E-01\n",
      " \n",
      " Iter    Objective  Convergence\n",
      "   30  2.70798E+16  9.16710E-01\n",
      "   31  1.84078E+16  9.16710E-01\n",
      "   32  2.70798E+16  9.16710E-01\n",
      "   33  1.84753E+16  9.16710E-01\n",
      "   34  2.70798E+16  9.16710E-01\n",
      "   35  1.82842E+16  9.16710E-01\n",
      "   36  2.70798E+16  9.16710E-01\n",
      "   37  1.84753E+16  9.16710E-01\n",
      "   38  2.70798E+16  9.16710E-01\n",
      "   39  1.82810E+16  9.16710E-01\n",
      " \n",
      " Iter    Objective  Convergence\n",
      "   40  2.70798E+16  9.16710E-01\n",
      "   41  1.84753E+16  9.16710E-01\n",
      "   42  2.70798E+16  9.16710E-01\n",
      "   43  1.82842E+16  9.16710E-01\n",
      "   44  2.70798E+16  9.16710E-01\n",
      "   45  1.84753E+16  9.16710E-01\n",
      "   46  2.70798E+16  9.16710E-01\n",
      "   47  1.79502E+16  9.16710E-01\n",
      "   48  2.70798E+16  9.16710E-01\n",
      "   49  1.84753E+16  9.16710E-01\n",
      " \n",
      " Iter    Objective  Convergence\n",
      "   50  2.70798E+16  9.16710E-01\n",
      "   51  1.83053E+16  9.16710E-01\n",
      "   52  2.70798E+16  9.16710E-01\n",
      "   53  1.84753E+16  9.16710E-01\n",
      "   54  2.70798E+16  9.16710E-01\n",
      "   55  1.84078E+16  9.16710E-01\n",
      "   56  2.70798E+16  9.16710E-01\n",
      "   57  1.84753E+16  9.16710E-01\n",
      "   58  2.70798E+16  9.16710E-01\n",
      "   59  1.82810E+16  9.16710E-01\n",
      " \n",
      " Iter    Objective  Convergence\n",
      "   60  2.70798E+16  9.16710E-01\n",
      "   61  1.84753E+16  9.16710E-01\n",
      "   62  2.70798E+16  9.16710E-01\n",
      "   63  1.83053E+16  9.16710E-01\n",
      "   64  2.70798E+16  9.16710E-01\n",
      "   65  1.84753E+16  9.16710E-01\n",
      "   66  2.70798E+16  9.16710E-01\n",
      "   67  1.84078E+16  9.16710E-01\n",
      "   68  2.70798E+16  9.16710E-01\n",
      "   69  1.84752E+16  9.16710E-01\n",
      " \n",
      " Iter    Objective  Convergence\n",
      "   70  2.70798E+16  9.16710E-01\n",
      "   71  1.83053E+16  9.16710E-01\n",
      "   72  2.70798E+16  9.16710E-01\n",
      "   73  1.84753E+16  9.16710E-01\n",
      "   74  2.70798E+16  9.16710E-01\n",
      "   75  1.83053E+16  9.16710E-01\n",
      "   76  2.70798E+16  9.16710E-01\n",
      "   77  1.84753E+16  9.16710E-01\n",
      "   78  2.70798E+16  9.16710E-01\n",
      "   79  1.83053E+16  9.16710E-01\n",
      " \n",
      " Iter    Objective  Convergence\n",
      "   80  2.70798E+16  9.16710E-01\n",
      "   81  1.84753E+16  9.16710E-01\n",
      "   82  2.70798E+16  9.16710E-01\n",
      "   83  1.82810E+16  9.16710E-01\n",
      "   84  2.70798E+16  9.16710E-01\n",
      "   85  1.84753E+16  9.16710E-01\n",
      "   86  2.70798E+16  9.16710E-01\n",
      "   87  1.83053E+16  9.16710E-01\n",
      "   88  2.70798E+16  9.16710E-01\n",
      "   89  1.84753E+16  9.16710E-01\n",
      " \n",
      " Iter    Objective  Convergence\n",
      "   90  2.70798E+16  9.16710E-01\n",
      "   91  1.82809E+16  9.16710E-01\n",
      "   92  2.70798E+16  9.16710E-01\n",
      "   93  1.84753E+16  9.16710E-01\n",
      "   94  2.70798E+16  9.16710E-01\n",
      "   95  1.83053E+16  9.16710E-01\n",
      "   96  2.70798E+16  9.16710E-01\n",
      "   97  1.84752E+16  9.16710E-01\n",
      "   98  2.70798E+16  9.16710E-01\n",
      "   99  1.83053E+16  9.16710E-01\n",
      " \n",
      " Iter    Objective  Convergence\n",
      "  100  2.70798E+16  9.16710E-01\n",
      "  101  1.84753E+16  9.16710E-01\n",
      "  102  2.70798E+16  9.16710E-01\n",
      "  103  1.83053E+16  9.16710E-01\n",
      "  104  2.70798E+16  9.16710E-01\n",
      "  105  1.76102E+16  9.16710E-01\n",
      "  106  2.70798E+16  9.16710E-01\n",
      "  107  1.82810E+16  9.16710E-01\n",
      "  108  2.70798E+16  9.16710E-01\n",
      "  109  1.84752E+16  9.16710E-01\n",
      " \n",
      " Iter    Objective  Convergence\n",
      "  110  2.70798E+16  9.16710E-01\n",
      "  111  1.82810E+16  9.16710E-01\n",
      "  112  2.70798E+16  9.16710E-01\n",
      "  113  1.84752E+16  9.16710E-01\n",
      "  114  2.70798E+16  9.16710E-01\n",
      "  115  1.82809E+16  9.16710E-01\n",
      "  116  2.70798E+16  9.16710E-01\n",
      "  117  1.84753E+16  9.16710E-01\n",
      "  118  2.70798E+16  9.16710E-01\n",
      "  119  1.82809E+16  9.16710E-01\n",
      " \n",
      " Iter    Objective  Convergence\n",
      "  120  2.70798E+16  9.16710E-01\n",
      "  121  1.84753E+16  9.16710E-01\n",
      "  122  2.70798E+16  9.16710E-01\n",
      "  123  1.82809E+16  9.16710E-01\n",
      "  124  2.70798E+16  9.16710E-01\n",
      "  125  1.84753E+16  9.16710E-01\n",
      "  126  2.70798E+16  9.16710E-01\n",
      "  127  1.82810E+16  9.16710E-01\n",
      "  128  2.70798E+16  9.16710E-01\n",
      "  129  1.84753E+16  9.16710E-01\n",
      " \n",
      " Iter    Objective  Convergence\n",
      "  130  2.70798E+16  9.16710E-01\n",
      "  131  1.82810E+16  9.16710E-01\n",
      "  132  2.70798E+16  9.16710E-01\n",
      "  133  1.84753E+16  9.16710E-01\n",
      "  134  2.70798E+16  9.16710E-01\n",
      "  135  1.82809E+16  9.16710E-01\n",
      "  136  2.70798E+16  9.16710E-01\n",
      "  137  1.84753E+16  9.16710E-01\n",
      "  138  2.70798E+16  9.16710E-01\n",
      "  139  1.82810E+16  9.16710E-01\n",
      " \n",
      " Iter    Objective  Convergence\n",
      "  140  2.70798E+16  9.16710E-01\n",
      "  141  1.84753E+16  9.16710E-01\n",
      "  142  2.70798E+16  9.16710E-01\n",
      "  143  1.82810E+16  9.16710E-01\n",
      "  144  2.70798E+16  9.16710E-01\n",
      "  145  1.84753E+16  9.16710E-01\n",
      "  146  2.70798E+16  9.16710E-01\n",
      "  147  1.82809E+16  9.16710E-01\n",
      "  148  2.70798E+16  9.16710E-01\n",
      "  149  1.84753E+16  9.16710E-01\n",
      " \n",
      " Iter    Objective  Convergence\n",
      "  150  2.70798E+16  9.16710E-01\n",
      "  151  1.82809E+16  9.16710E-01\n",
      "  152  2.70798E+16  9.16710E-01\n",
      "  153  1.84753E+16  9.16710E-01\n",
      "  154  2.70798E+16  9.16710E-01\n",
      "  155  1.82809E+16  9.16710E-01\n",
      "  156  2.70798E+16  9.16710E-01\n",
      "  157  1.84753E+16  9.16710E-01\n",
      "  158  2.70798E+16  9.16710E-01\n",
      "  159  1.82810E+16  9.16710E-01\n",
      " \n",
      " Iter    Objective  Convergence\n",
      "  160  2.70798E+16  9.16710E-01\n",
      "  161  1.84753E+16  9.16710E-01\n",
      "  162  2.70798E+16  9.16710E-01\n",
      "  163  1.82810E+16  9.16710E-01\n",
      "  164  2.70798E+16  9.16710E-01\n",
      "  165  1.84753E+16  9.16710E-01\n",
      "  166  2.70798E+16  9.16710E-01\n",
      "  167  1.82810E+16  9.16710E-01\n",
      "  168  2.70798E+16  9.16710E-01\n",
      "  169  1.84753E+16  9.16710E-01\n",
      " \n",
      " Iter    Objective  Convergence\n",
      "  170  2.70798E+16  9.16710E-01\n",
      "  171  1.82810E+16  9.16710E-01\n",
      "  172  2.70798E+16  9.16710E-01\n",
      "  173  1.84753E+16  9.16710E-01\n",
      "  174  2.70798E+16  9.16710E-01\n",
      "  175  1.82810E+16  9.16710E-01\n",
      "  176  2.70798E+16  9.16710E-01\n",
      "  177  1.84753E+16  9.16710E-01\n",
      "  178  2.70798E+16  9.16710E-01\n",
      "  179  1.82809E+16  9.16710E-01\n",
      " \n",
      " Iter    Objective  Convergence\n",
      "  180  2.70798E+16  9.16710E-01\n",
      "  181  1.84753E+16  9.16710E-01\n",
      "  182  2.70798E+16  9.16710E-01\n",
      "  183  1.82841E+16  9.16710E-01\n",
      "  184  2.70798E+16  9.16710E-01\n",
      "  185  1.84753E+16  9.16710E-01\n",
      "  186  2.70798E+16  9.16710E-01\n",
      "  187  1.82841E+16  9.16710E-01\n",
      "  188  2.70798E+16  9.16710E-01\n",
      "  189  1.84753E+16  9.16710E-01\n",
      " \n",
      " Iter    Objective  Convergence\n",
      "  190  2.70798E+16  9.16710E-01\n",
      "  191  1.82841E+16  9.16710E-01\n",
      "  192  2.70798E+16  9.16710E-01\n",
      "  193  1.84753E+16  9.16710E-01\n",
      "  194  2.70798E+16  9.16710E-01\n",
      "  195  1.82841E+16  9.16710E-01\n",
      "  196  2.70798E+16  9.16710E-01\n",
      "  197  1.84753E+16  9.16710E-01\n",
      "  198  2.70798E+16  9.16710E-01\n",
      "  199  1.82841E+16  9.16710E-01\n",
      " \n",
      " Iter    Objective  Convergence\n",
      "  200  2.70798E+16  9.16710E-01\n",
      "  201  1.84753E+16  9.16710E-01\n",
      "  202  2.70798E+16  9.16710E-01\n",
      "  203  1.82842E+16  9.16710E-01\n",
      "  204  2.70798E+16  9.16710E-01\n",
      "  205  1.84753E+16  9.16710E-01\n",
      "  206  2.70798E+16  9.16710E-01\n",
      "  207  1.82841E+16  9.16710E-01\n",
      "  208  2.70798E+16  9.16710E-01\n",
      "  209  1.84753E+16  9.16710E-01\n",
      " \n",
      " Iter    Objective  Convergence\n",
      "  210  2.70798E+16  9.16710E-01\n",
      "  211  1.82841E+16  9.16710E-01\n",
      "  212  2.70798E+16  9.16710E-01\n",
      "  213  1.84753E+16  9.16710E-01\n",
      "  214  2.70798E+16  9.16710E-01\n",
      "  215  1.82841E+16  9.16710E-01\n",
      "  216  2.70798E+16  9.16710E-01\n",
      "  217  1.84753E+16  9.16710E-01\n",
      "  218  2.70798E+16  9.16710E-01\n",
      "  219  1.82841E+16  9.16710E-01\n",
      " \n",
      " Iter    Objective  Convergence\n",
      "  220  2.70798E+16  9.16710E-01\n",
      "  221  1.84753E+16  9.16710E-01\n",
      "  222  2.70798E+16  9.16710E-01\n",
      "  223  1.82841E+16  9.16710E-01\n",
      "  224  2.70798E+16  9.16710E-01\n",
      "  225  1.84753E+16  9.16710E-01\n",
      "  226  2.70798E+16  9.16710E-01\n",
      "  227  1.82841E+16  9.16710E-01\n",
      "  228  2.70798E+16  9.16710E-01\n",
      "  229  1.84753E+16  9.16710E-01\n",
      " \n",
      " Iter    Objective  Convergence\n",
      "  230  2.70798E+16  9.16710E-01\n",
      "  231  1.82841E+16  9.16710E-01\n",
      "  232  2.70798E+16  9.16710E-01\n",
      "  233  1.84753E+16  9.16710E-01\n",
      "  234  2.70798E+16  9.16710E-01\n",
      "  235  1.82841E+16  9.16710E-01\n",
      "  236  2.70798E+16  9.16710E-01\n",
      "  237  1.84753E+16  9.16710E-01\n",
      "  238  2.70798E+16  9.16710E-01\n",
      "  239  1.82841E+16  9.16710E-01\n",
      " \n",
      " Iter    Objective  Convergence\n",
      "  240  2.70798E+16  9.16710E-01\n",
      "  241  1.84753E+16  9.16710E-01\n",
      "  242  2.70798E+16  9.16710E-01\n",
      "  243  1.82809E+16  9.16710E-01\n",
      "  244  2.70798E+16  9.16710E-01\n",
      "  245  1.84753E+16  9.16710E-01\n",
      "  246  2.70798E+16  9.16710E-01\n",
      "  247  1.82841E+16  9.16710E-01\n",
      "  248  2.70798E+16  9.16710E-01\n",
      "  249  1.84753E+16  9.16710E-01\n",
      " \n",
      " Iter    Objective  Convergence\n",
      "  250  2.70798E+16  9.16710E-01\n",
      " Maximum iterations\n",
      " \n",
      " ---------------------------------------------------\n",
      " Solver         :  IPOPT (v3.12)\n",
      " Solution time  :    22.2760999999991      sec\n",
      " Objective      :   -80761166842.5314     \n",
      " Unsuccessful with error code            0\n",
      " ---------------------------------------------------\n",
      " \n",
      " Creating file: infeasibilities.txt\n",
      " Use command apm_get(server,app,'infeasibilities.txt') to retrieve file\n",
      " @error: Solution Not Found\n",
      "\n"
     ]
    },
    {
     "ename": "Exception",
     "evalue": "@error: Solution Not Found\n",
     "output_type": "error",
     "traceback": [
      "\u001b[0;31m---------------------------------------------------------------------------\u001b[0m",
      "\u001b[0;31mException\u001b[0m                                 Traceback (most recent call last)",
      "\u001b[0;32m<ipython-input-3-c4a75b8b332a>\u001b[0m in \u001b[0;36m<module>\u001b[0;34m\u001b[0m\n\u001b[1;32m     20\u001b[0m \u001b[0mm\u001b[0m\u001b[0;34m.\u001b[0m\u001b[0mObj\u001b[0m\u001b[0;34m(\u001b[0m\u001b[0mz\u001b[0m \u001b[0;34m*\u001b[0m \u001b[0mfinal\u001b[0m\u001b[0;34m)\u001b[0m    \u001b[0;31m# Целевая функция\u001b[0m\u001b[0;34m\u001b[0m\u001b[0;34m\u001b[0m\u001b[0m\n\u001b[1;32m     21\u001b[0m \u001b[0mm\u001b[0m\u001b[0;34m.\u001b[0m\u001b[0moptions\u001b[0m\u001b[0;34m.\u001b[0m\u001b[0mIMODE\u001b[0m \u001b[0;34m=\u001b[0m \u001b[0;36m6\u001b[0m \u001b[0;31m# задача оптимального управления/динамического программирования\u001b[0m\u001b[0;34m\u001b[0m\u001b[0;34m\u001b[0m\u001b[0m\n\u001b[0;32m---> 22\u001b[0;31m \u001b[0mm\u001b[0m\u001b[0;34m.\u001b[0m\u001b[0msolve\u001b[0m\u001b[0;34m(\u001b[0m\u001b[0mdisp\u001b[0m\u001b[0;34m=\u001b[0m\u001b[0;32mTrue\u001b[0m\u001b[0;34m)\u001b[0m\u001b[0;34m\u001b[0m\u001b[0;34m\u001b[0m\u001b[0m\n\u001b[0m",
      "\u001b[0;32m/Library/Frameworks/Python.framework/Versions/3.9/lib/python3.9/site-packages/gekko/gekko.py\u001b[0m in \u001b[0;36msolve\u001b[0;34m(self, disp, debug, GUI, **kwargs)\u001b[0m\n\u001b[1;32m   2138\u001b[0m                 \u001b[0mprint\u001b[0m\u001b[0;34m(\u001b[0m\u001b[0;34m\"Error:\"\u001b[0m\u001b[0;34m,\u001b[0m \u001b[0merrs\u001b[0m\u001b[0;34m)\u001b[0m\u001b[0;34m\u001b[0m\u001b[0;34m\u001b[0m\u001b[0m\n\u001b[1;32m   2139\u001b[0m             \u001b[0;32mif\u001b[0m \u001b[0;34m(\u001b[0m\u001b[0mdebug\u001b[0m \u001b[0;34m>=\u001b[0m \u001b[0;36m1\u001b[0m\u001b[0;34m)\u001b[0m \u001b[0;32mand\u001b[0m \u001b[0mrecord_error\u001b[0m\u001b[0;34m:\u001b[0m\u001b[0;34m\u001b[0m\u001b[0;34m\u001b[0m\u001b[0m\n\u001b[0;32m-> 2140\u001b[0;31m                 \u001b[0;32mraise\u001b[0m \u001b[0mException\u001b[0m\u001b[0;34m(\u001b[0m\u001b[0mapm_error\u001b[0m\u001b[0;34m)\u001b[0m\u001b[0;34m\u001b[0m\u001b[0;34m\u001b[0m\u001b[0m\n\u001b[0m\u001b[1;32m   2141\u001b[0m \u001b[0;34m\u001b[0m\u001b[0m\n\u001b[1;32m   2142\u001b[0m         \u001b[0;32melse\u001b[0m\u001b[0;34m:\u001b[0m \u001b[0;31m#solve on APM server\u001b[0m\u001b[0;34m\u001b[0m\u001b[0;34m\u001b[0m\u001b[0m\n",
      "\u001b[0;31mException\u001b[0m: @error: Solution Not Found\n"
     ]
    }
   ],
   "source": [
    "# Инициализируем модель\n",
    "m = GEKKO(remote=False)\n",
    "nt = 501 #нам оф фрэкшнз\n",
    "m.time = np.linspace(0,2,nt) #интеграл от 0 до 2\n",
    "\n",
    "# Задаём переменные\n",
    "y = m.Var(value=2) #y(0)=2\n",
    "z = m.Var(value=5)\n",
    "u = m.Var(value=5,lb=-3,ub=13) #от -3 до 13\n",
    "t = m.Var(value=0)\n",
    "p = np.zeros(nt)    # Отмечаем последнюю точку\n",
    "p[-1] = 1.0\n",
    "final = m.Param(value=p)\n",
    "\n",
    "\n",
    "# Задаём уравнения\n",
    "m.Equation(y.dt() == 18 * y + u) #y'=18y+u\n",
    "m.Equation(t.dt() == 1)\n",
    "m.Equation(z.dt() == y - 15 * u) #подынтегральное выражение\n",
    "m.Obj(z * final)    # Целевая функция\n",
    "m.options.IMODE = 6 # задача оптимального управления/динамического программирования\n",
    "m.solve(disp=True)"
   ]
  },
  {
   "cell_type": "markdown",
   "id": "92f6164d",
   "metadata": {},
   "source": [
    "решение не найдено!"
   ]
  },
  {
   "cell_type": "code",
   "execution_count": 5,
   "id": "5c2b89b4",
   "metadata": {},
   "outputs": [
    {
     "data": {
      "image/png": "[encoded data removed]",
      "text/plain": [
       "<Figure size 432x288 with 1 Axes>"
      ]
     },
     "metadata": {
      "needs_background": "light"
     },
     "output_type": "display_data"
    }
   ],
   "source": [
    "plt.plot(m.time[1:], y.value[1:], 'k-', label=r'$y$')\n",
    "plt.plot(m.time[1:],u.value[1:],'r--',label=r'$u$')\n",
    "plt.legend(loc='best')\n",
    "plt.xlabel('Time')\n",
    "plt.ylabel('Value')\n",
    "plt.show()"
   ]
  },
  {
   "cell_type": "code",
   "execution_count": 6,
   "id": "a17b2b3a",
   "metadata": {},
   "outputs": [
    {
     "data": {
      "image/png": "[encoded data removed]",
      "text/plain": [
       "<Figure size 864x720 with 2 Axes>"
      ]
     },
     "metadata": {
      "needs_background": "light"
     },
     "output_type": "display_data"
    }
   ],
   "source": [
    "def u_a(t):\n",
    "    return [-3 for elem in t]\n",
    "\n",
    "\n",
    "def y_a(t):\n",
    "    return [1/6*(11*np.exp(18 * elem) + 1) for elem in t]\n",
    "\n",
    "\n",
    "plt.figure(figsize=(12,10))\n",
    "plt.subplot(2,1,1)\n",
    "plt.plot(m.time,y.value,'k-',label=r'$y$')\n",
    "plt.plot(m.time,y_a(m.time),'r--',label=r'$y^*$')\n",
    "plt.legend(loc='best')\n",
    "plt.ylabel('Value')\n",
    "plt.subplot(2,1,2)\n",
    "plt.plot(m.time,u.value,'k-',label=r'$u$')\n",
    "plt.plot(m.time,u_a(m.time),'r--',label=r'$u^*$')\n",
    "plt.legend(loc='best')\n",
    "plt.ylabel('Value')\n",
    "plt.xlabel('Time')\n",
    "plt.show()"
   ]
  },
  {
   "cell_type": "code",
   "execution_count": 7,
   "id": "87d3130e",
   "metadata": {},
   "outputs": [
    {
     "data": {
      "image/png": "[encoded data removed]",
      "text/plain": [
       "<Figure size 864x720 with 1 Axes>"
      ]
     },
     "metadata": {
      "needs_background": "light"
     },
     "output_type": "display_data"
    }
   ],
   "source": [
    "plt.figure(figsize=(12,10))\n",
    "\n",
    "plt.plot(u_a(m.time),'r--',label=r'$u^*$')\n",
    "\n",
    "plt.plot(y_a(m.time),'k-',label=r'$y^*$')\n",
    "\n",
    "plt.legend(loc='best')\n",
    "plt.ylabel('Value')\n",
    "plt.show()"
   ]
  },
  {
   "cell_type": "markdown",
   "id": "df13c98c",
   "metadata": {},
   "source": [
    "# Задача 3"
   ]
  },
  {
   "cell_type": "code",
   "execution_count": 8,
   "id": "79dced40",
   "metadata": {},
   "outputs": [],
   "source": [
    "from scipy.optimize import minimize\n",
    "import matplotlib.pyplot as plt\n",
    "import numpy as np\n",
    "\n",
    "eps = 10e-6"
   ]
  },
  {
   "cell_type": "code",
   "execution_count": 9,
   "id": "bfc0c35d",
   "metadata": {},
   "outputs": [],
   "source": [
    "# дискретное время\n",
    "\n",
    "num_of_fractions = 51  # количество делений на дискретной шкале времени\n",
    "t = np.linspace(0, np.pi / 2, num_of_fractions)  # дискретная шкала времени\n",
    "dt = t[1] - t[0]  # шаг шкалы"
   ]
  },
  {
   "cell_type": "code",
   "execution_count": 10,
   "id": "9e9a91fb",
   "metadata": {},
   "outputs": [],
   "source": [
    "# функционал в дискретном времени\n",
    "\n",
    "def f(y):\n",
    "    return np.sum(((y[1:] - y[:-1]) / dt) ** 2 - y[1:] ** 2)"
   ]
  },
  {
   "cell_type": "code",
   "execution_count": 11,
   "id": "6ad956e8",
   "metadata": {},
   "outputs": [],
   "source": [
    "y0 = [1 for _ in range(0, num_of_fractions)]\n",
    "\n",
    "bounds = [(None, None) for _ in range(0, num_of_fractions)]\n",
    "bounds[0], bounds[-1] = (1.0 - eps, 1.0 + eps), (2.0 - eps, 2.0 + eps)\n",
    "\n"
   ]
  },
  {
   "cell_type": "code",
   "execution_count": 12,
   "id": "06812d86",
   "metadata": {},
   "outputs": [],
   "source": [
    "# минимизируем функционал\n",
    "res = minimize(f, y0, method='l-bfgs-b', bounds=bounds)"
   ]
  },
  {
   "cell_type": "code",
   "execution_count": 13,
   "id": "4090e57c",
   "metadata": {},
   "outputs": [
    {
     "data": {
      "image/png": "[encoded data removed]",
      "text/plain": [
       "<Figure size 432x288 with 1 Axes>"
      ]
     },
     "metadata": {
      "needs_background": "light"
     },
     "output_type": "display_data"
    }
   ],
   "source": [
    "plt.plot(t, res.x)\n",
    "plt.xlabel('t')\n",
    "plt.ylabel('y')\n",
    "plt.show()"
   ]
  },
  {
   "cell_type": "code",
   "execution_count": 14,
   "id": "693df7a3",
   "metadata": {},
   "outputs": [],
   "source": [
    "def f_analytical(t):\n",
    "    return [2 * np.sin(elem) + np.cos(elem) for elem in t]\n"
   ]
  },
  {
   "cell_type": "code",
   "execution_count": 15,
   "id": "f8a0cd93",
   "metadata": {},
   "outputs": [
    {
     "data": {
      "image/png": "[encoded data removed]",
      "text/plain": [
       "<Figure size 432x288 with 1 Axes>"
      ]
     },
     "metadata": {
      "needs_background": "light"
     },
     "output_type": "display_data"
    }
   ],
   "source": [
    "# численное и аналитическое решения совпали\n",
    "plt.plot(t, res.x, 'r', t, f_analytical(t), '--b')\n",
    "plt.xlabel('t')\n",
    "plt.ylabel('y')\n",
    "plt.legend(('y численный', 'y аналитический'))\n",
    "plt.show()"
   ]
  },
  {
   "cell_type": "markdown",
   "id": "7225c8ec",
   "metadata": {},
   "source": [
    "максимум"
   ]
  },
  {
   "cell_type": "code",
   "execution_count": 16,
   "id": "9abd86ea",
   "metadata": {},
   "outputs": [],
   "source": [
    "def f_to_max(y):\n",
    "    return -np.sum(((y[1:] - y[:-1]) / dt) ** 2 - y[1:] ** 2)"
   ]
  },
  {
   "cell_type": "code",
   "execution_count": 17,
   "id": "55438ff4",
   "metadata": {},
   "outputs": [
    {
     "name": "stderr",
     "output_type": "stream",
     "text": [
      "<ipython-input-16-eb25a15dd08e>:2: RuntimeWarning: overflow encountered in square\n",
      "  return -np.sum(((y[1:] - y[:-1]) / dt) ** 2 - y[1:] ** 2)\n",
      "/Library/Frameworks/Python.framework/Versions/3.9/lib/python3.9/site-packages/scipy/optimize/_numdiff.py:557: RuntimeWarning: invalid value encountered in subtract\n",
      "  df = fun(x) - f0\n",
      "<ipython-input-16-eb25a15dd08e>:2: RuntimeWarning: invalid value encountered in subtract\n",
      "  return -np.sum(((y[1:] - y[:-1]) / dt) ** 2 - y[1:] ** 2)\n"
     ]
    }
   ],
   "source": [
    "res_max = minimize(f_to_max, y0, method='l-bfgs-b', bounds=bounds)"
   ]
  },
  {
   "cell_type": "code",
   "execution_count": 18,
   "id": "0731095c",
   "metadata": {},
   "outputs": [
    {
     "data": {
      "image/png": "[encoded data removed]",
      "text/plain": [
       "<Figure size 432x288 with 1 Axes>"
      ]
     },
     "metadata": {
      "needs_background": "light"
     },
     "output_type": "display_data"
    }
   ],
   "source": [
    "# численное и аналитическое решения совпали\n",
    "plt.plot(t, res_max.x, 'r', t, f_analytical(t), '--b')\n",
    "plt.xlabel('t')\n",
    "plt.ylabel('y')\n",
    "plt.legend(('y численный', 'y аналитический'))\n",
    "plt.show()"
   ]
  }
 ],
 "metadata": {
  "kernelspec": {
   "display_name": "Python 3",
   "language": "python",
   "name": "python3"
  },
  "language_info": {
   "codemirror_mode": {
    "name": "ipython",
    "version": 3
   },
   "file_extension": ".py",
   "mimetype": "text/x-python",
   "name": "python",
   "nbconvert_exporter": "python",
   "pygments_lexer": "ipython3",
   "version": "3.9.2"
  }
 },
 "nbformat": 4,
 "nbformat_minor": 5
}
